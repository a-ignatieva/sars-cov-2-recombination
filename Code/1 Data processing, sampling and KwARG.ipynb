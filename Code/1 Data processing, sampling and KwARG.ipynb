{
 "cells": [
  {
   "cell_type": "markdown",
   "metadata": {},
   "source": [
    "# Data processing, sampling and KwARG\n",
    "\n",
    "This notebook provides commands used in processing the data, obtaining the samples and running KwARG, illustrated on the South Africa (November) dataset. The commands can be run on most Unix-based systems via command line (to re-run a particular command, delete the '!' prefixing each line below).\n",
    "\n",
    "External tools used:\n",
    "\n",
    "[MAFFT](https://mafft.cbrc.jp/alignment/software/)\n",
    "\n",
    "[SeqKit](https://bioinf.shenwei.me/seqkit/)\n",
    "\n",
    "The quality control criteria as detailed in Section S1.2 were applied by running the sequences through the Nextclade tool available [here](https://clades.nextstrain.org/).\n",
    "\n",
    "The list of problematic sites to mask by De Maio et al (2020) is downloaded as `problematic_sites_sarsCov2.vcf` from [here](https://github.com/W-L/ProblematicSites_SARS-CoV2) (using version from 4 March 2021)."
   ]
  },
  {
   "cell_type": "markdown",
   "metadata": {},
   "source": [
    "# Data processing"
   ]
  },
  {
   "cell_type": "markdown",
   "metadata": {},
   "source": [
    "### Source\n",
    "\n",
    "The data was downloded from [GISAID](https://www.gisaid.org/) on 28 December 2020, filtering for sequences:\n",
    "\n",
    "- collected in November 2020 in South Africa;\n",
    "- marked as complete (>29,900 nucleotides) and excluding low coverage sequences (>5% ambiguous nucleotides);\n",
    "\n",
    "giving 326 sequences in total. The downloaded files are named:\n",
    "\n",
    "- `SA_data.fasta` (the sequences in fasta format)\n",
    "- `SA_sequencing_info.tsv` (sequencing metadata)\n",
    "\n",
    "Filtering only for sequences labelled as belonging to strain 501Y.V2, the sequencing metadata was downloaded in file\n",
    "\n",
    "- `SA_newstrain_sequencing_info.tsv`\n",
    "\n",
    "The data is not shared here as per GISAID's terms of use, but the GISAID accession IDs are provided in the file SA_id.txt, which can be used to recreate the dataset used in our analysis."
   ]
  },
  {
   "cell_type": "code",
   "execution_count": 1,
   "metadata": {},
   "outputs": [
    {
     "name": "stdout",
     "output_type": "stream",
     "text": [
      "EPI_ISL_660159\r\n",
      "EPI_ISL_660160\r\n",
      "EPI_ISL_660161\r\n",
      "EPI_ISL_660162\r\n",
      "EPI_ISL_660163\r\n",
      "EPI_ISL_660164\r\n",
      "EPI_ISL_660221\r\n",
      "EPI_ISL_660222\r\n",
      "EPI_ISL_660225\r\n",
      "EPI_ISL_660228\r\n"
     ]
    }
   ],
   "source": [
    "!grep \">\" SA_data.fasta | awk -F\"|\" '{ print $2 }' > SA_id.txt;\n",
    "!head SA_id.txt"
   ]
  },
  {
   "cell_type": "markdown",
   "metadata": {},
   "source": [
    "### Alignment\n",
    "\n",
    "The sequences in each dataset were aligned using MAFFT to the reference sequence in `ref_seq.fasta` (GISAID accession EPI_ISL_402125, GenBank ID MN908947.3):\n",
    "```sh\n",
    "mafft --auto --thread -1 --keeplength --quiet --mapout --preservecase --addfragments SA_data.fasta ref_seq.fasta > SA_alignment.fasta\n",
    "```\n",
    "\n",
    "All symbols other than 'A, C, T, G' are replaced with 'N':"
   ]
  },
  {
   "cell_type": "code",
   "execution_count": 2,
   "metadata": {},
   "outputs": [],
   "source": [
    "!sed '/^>/! s/[^actgACTG]/N/g' SA_alignment.fasta > SA_alignment_cleaned.fasta"
   ]
  },
  {
   "cell_type": "markdown",
   "metadata": {},
   "source": [
    "Sequences labelled as having long stretches of ambiguous nucleotides were removed:"
   ]
  },
  {
   "cell_type": "code",
   "execution_count": 3,
   "metadata": {},
   "outputs": [],
   "source": [
    "!grep \"Stretches\" SA_sequencing_info.tsv | awk '{print $1 \" \" $2 \"|\" $3 \"|\" $4}' > Ns_id.txt;\n",
    "!sed -i .bak \"s/\\ /_/g\" Ns_id.txt;\n",
    "!sed -i .bak \"s/\\ /_/g\" SA_alignment_cleaned.fasta;\n",
    "!seqkit grep -n -v -f Ns_id.txt SA_alignment_cleaned.fasta > SA_alignment_good.fasta"
   ]
  },
  {
   "cell_type": "markdown",
   "metadata": {},
   "source": [
    "To check the size of the resulting dataset:"
   ]
  },
  {
   "cell_type": "code",
   "execution_count": 4,
   "metadata": {},
   "outputs": [
    {
     "name": "stdout",
     "output_type": "stream",
     "text": [
      "file                     format  type  num_seqs    sum_len  min_len  avg_len  max_len\r\n",
      "SA_alignment_good.fasta  FASTA   DNA        279  8,342,937   29,903   29,903   29,903\r\n"
     ]
    }
   ],
   "source": [
    "!seqkit stats SA_alignment_good.fasta"
   ]
  },
  {
   "cell_type": "markdown",
   "metadata": {},
   "source": [
    "### Splitting by strain"
   ]
  },
  {
   "cell_type": "markdown",
   "metadata": {},
   "source": [
    "The sequencing metadata file `SA_newstrain_sequencing_info.txt` is used to extract the sequences which are labelled as belonging to strain 501Y.V2."
   ]
  },
  {
   "cell_type": "code",
   "execution_count": 5,
   "metadata": {},
   "outputs": [],
   "source": [
    "!awk '{print $1 \" \" $2 \"|\" $3 \"|\" $4}' SA_newstrain_sequencing_info.tsv | grep \"hCoV\" > SA_newstrain_id.txt;\n",
    "!sed -i .bak \"s/\\ /_/g\" SA_newstrain_id.txt"
   ]
  },
  {
   "cell_type": "code",
   "execution_count": 6,
   "metadata": {},
   "outputs": [],
   "source": [
    "!seqkit grep -n -f SA_newstrain_id.txt SA_alignment_good.fasta > SA_newstrain.fasta;\n",
    "!seqkit grep -n -v -f SA_newstrain_id.txt SA_alignment_good.fasta > SA_oldstrain.fasta"
   ]
  },
  {
   "cell_type": "markdown",
   "metadata": {},
   "source": [
    "Checking to see if there are any exact duplicates in the data:"
   ]
  },
  {
   "cell_type": "code",
   "execution_count": 7,
   "metadata": {},
   "outputs": [
    {
     "name": "stdout",
     "output_type": "stream",
     "text": [
      "[INFO]\u001b[0m 0 duplicated records removed\n",
      "[INFO]\u001b[0m 0 duplicated records removed\n"
     ]
    }
   ],
   "source": [
    "!seqkit rmdup -DSA_olddeleted.txt -s SA_oldstrain.fasta > SA_oldstrain_nondup.fasta;\n",
    "!seqkit rmdup -DSA_newdeleted.txt -s SA_newstrain.fasta > SA_newstrain_nondup.fasta;\n",
    "!rm SA_newstrain.fasta;\n",
    "!rm SA_oldstrain.fasta"
   ]
  },
  {
   "cell_type": "code",
   "execution_count": 8,
   "metadata": {},
   "outputs": [
    {
     "name": "stdout",
     "output_type": "stream",
     "text": [
      "file                       format  type  num_seqs    sum_len  min_len  avg_len  max_len\n",
      "SA_oldstrain_nondup.fasta  FASTA   DNA        102  3,050,106   29,903   29,903   29,903\n",
      "file                       format  type  num_seqs    sum_len  min_len  avg_len  max_len\n",
      "SA_newstrain_nondup.fasta  FASTA   DNA        177  5,292,831   29,903   29,903   29,903\n"
     ]
    }
   ],
   "source": [
    "!seqkit stats SA_oldstrain_nondup.fasta;\n",
    "!seqkit stats SA_newstrain_nondup.fasta"
   ]
  },
  {
   "cell_type": "markdown",
   "metadata": {},
   "source": [
    "### Sample generation\n",
    "\n",
    "The reference sequence was deleted from `SA_oldstrain_nondup.fasta` prior to running the following:"
   ]
  },
  {
   "cell_type": "code",
   "execution_count": 9,
   "metadata": {},
   "outputs": [
    {
     "name": "stdout",
     "output_type": "stream",
     "text": [
      "[INFO]\u001b[0m sample by proportion\n",
      "[INFO]\u001b[0m read sequences ...\n",
      "[INFO]\u001b[0m 62 sequences outputted\n",
      "[INFO]\u001b[0m 62 sequences loaded\n",
      "[INFO]\u001b[0m shuffle ...\n",
      "[INFO]\u001b[0m output ...\n",
      "[INFO]\u001b[0m read sequences ...\n",
      "[INFO]\u001b[0m sample by proportion\n",
      "[INFO]\u001b[0m 113 sequences outputted\n",
      "[INFO]\u001b[0m 113 sequences loaded\n",
      "[INFO]\u001b[0m shuffle ...\n",
      "[INFO]\u001b[0m output ...\n"
     ]
    }
   ],
   "source": [
    "!cat ref_seq.fasta > SA_sample.fasta;\n",
    "!seqkit sample -s 43984291 -p 0.6 SA_oldstrain_nondup.fasta | seqkit shuffle -s 92834717 | seqkit head -n 25 >> SA_sample.fasta;\n",
    "!seqkit sample -s 23849817 -p 0.6 SA_newstrain_nondup.fasta | seqkit shuffle -s 34876261 | seqkit head -n 25 >> SA_sample.fasta;"
   ]
  },
  {
   "cell_type": "markdown",
   "metadata": {},
   "source": [
    "The accession numbers of the sampled sequences are given in `SA_sample_id.txt`:"
   ]
  },
  {
   "cell_type": "code",
   "execution_count": 10,
   "metadata": {},
   "outputs": [
    {
     "name": "stdout",
     "output_type": "stream",
     "text": [
      "\r\n",
      "EPI_ISL_660225\r\n",
      "EPI_ISL_660257\r\n",
      "EPI_ISL_736993\r\n",
      "EPI_ISL_660643\r\n",
      "EPI_ISL_660229\r\n",
      "EPI_ISL_736985\r\n",
      "EPI_ISL_736926\r\n",
      "EPI_ISL_696462\r\n",
      "EPI_ISL_660655\r\n",
      "EPI_ISL_660625\r\n",
      "EPI_ISL_660231\r\n",
      "EPI_ISL_678608\r\n",
      "EPI_ISL_660163\r\n",
      "EPI_ISL_660232\r\n",
      "EPI_ISL_700488\r\n",
      "EPI_ISL_660652\r\n",
      "EPI_ISL_660622\r\n",
      "EPI_ISL_660651\r\n",
      "EPI_ISL_678612\r\n",
      "EPI_ISL_696509\r\n",
      "EPI_ISL_678595\r\n",
      "EPI_ISL_660222\r\n",
      "EPI_ISL_696468\r\n",
      "EPI_ISL_660230\r\n",
      "EPI_ISL_660626\r\n",
      "EPI_ISL_736958\r\n",
      "EPI_ISL_696481\r\n",
      "EPI_ISL_660637\r\n",
      "EPI_ISL_678632\r\n",
      "EPI_ISL_736932\r\n",
      "EPI_ISL_678641\r\n",
      "EPI_ISL_700422\r\n",
      "EPI_ISL_696503\r\n",
      "EPI_ISL_700470\r\n",
      "EPI_ISL_736983\r\n",
      "EPI_ISL_736936\r\n",
      "EPI_ISL_700487\r\n",
      "EPI_ISL_736935\r\n",
      "EPI_ISL_700443\r\n",
      "EPI_ISL_736939\r\n",
      "EPI_ISL_700554\r\n",
      "EPI_ISL_696505\r\n",
      "EPI_ISL_696518\r\n",
      "EPI_ISL_700589\r\n",
      "EPI_ISL_736959\r\n",
      "EPI_ISL_696453\r\n",
      "EPI_ISL_696521\r\n",
      "EPI_ISL_736964\r\n",
      "EPI_ISL_736928\r\n",
      "EPI_ISL_678629\r\n"
     ]
    }
   ],
   "source": [
    "!grep \">\" SA_sample.fasta | awk -F\"|\" '{ print $2 }' > SA_sample_id.txt;\n",
    "!cat SA_sample_id.txt"
   ]
  },
  {
   "cell_type": "markdown",
   "metadata": {},
   "source": [
    "These are the accession numbers given in Table S1."
   ]
  },
  {
   "cell_type": "markdown",
   "metadata": {},
   "source": [
    "### Masking problematic sites"
   ]
  },
  {
   "cell_type": "markdown",
   "metadata": {},
   "source": [
    "This is done using the provided script (for other datasets, the list of sites to mask was amended as detailed in the manuscript). "
   ]
  },
  {
   "cell_type": "code",
   "execution_count": 12,
   "metadata": {},
   "outputs": [
    {
     "name": "stdout",
     "output_type": "stream",
     "text": [
      "[1] SNP sites: 206\r\n",
      "[1] Plus masked: 29\r\n",
      "[1] Plus multi-allelic: 0\r\n",
      "[1] SNP sites:\r\n",
      "  [1]   117   168   174   203   210   241   355   362   376   550   598  1042\r\n",
      " [13]  1072  1172  1205  1248  1263  1269  1337  1427  1593  1968  2692  2780\r\n",
      " [25]  2781  2782  2937  3117  3182  3340  3472  3505  3904  3923  4078  4093\r\n",
      " [37]  4510  4615  4668  5230  5425  5495  5503  5794  5857  5950  6525  6618\r\n",
      " [49]  6624  6651  6701  6726  6762  7064  7113  7279  7390  7420  7425  7844\r\n",
      " [61]  8068  8655  8660  8964  9073  9430 10138 10156 10279 10540 10623 10681\r\n",
      " [73] 10912 11230 11401 11447 11534 11629 11653 11854 11875 11886 11896 12071\r\n",
      " [85] 12085 12253 12503 12769 13122 13812 14583 14763 14928 14937 15003 15222\r\n",
      " [97] 15952 15970 16490 16804 17193 17334 17533 17679 17876 17898 17999 18028\r\n",
      "[109] 18085 18175 18395 18495 18555 18910 19062 19283 19542 19602 19656 20233\r\n",
      "[121] 20387 20718 21024 21099 21614 21762 21801 21979 21997 22022 22205 22206\r\n",
      "[133] 22214 22813 22992 23012 23031 23063 23407 23534 23664 23710 23836 23854\r\n",
      "[145] 24023 24062 24133 24337 24398 24781 25139 25145 25171 25186 25241 25273\r\n",
      "[157] 25303 25427 25511 25521 25561 25566 25613 25630 25635 25672 25705 25770\r\n",
      "[169] 25814 25855 25904 25970 25977 26174 26262 26456 26501 26563 26586 26645\r\n",
      "[181] 26681 26690 26975 27008 27131 27152 27406 27504 27945 28086 28112 28817\r\n",
      "[193] 28895 28899 28905 29081 29085 29254 29366 29421 29440 29541 29555 29560\r\n",
      "[205] 29614 29721\r\n",
      "[1] Multi-allelic sites:\r\n",
      "NULL\r\n",
      "[1] Masked sites:\r\n",
      "   [1]     1     2     3     4     5     6     7     8     9    10    11    12\r\n",
      "  [13]    13    14    15    16    17    18    19    20    21    22    23    24\r\n",
      "  [25]    25    26    27    28    29    30    31    32    33    34    35    36\r\n",
      "  [37]    37    38    39    40    41    42    43    44    45    46    47    48\r\n",
      "  [49]    49    50    51    52    53    54    55    76    78   150   153   285\r\n",
      "  [61]   313   320   379   490   538   541   553   558   635   660   663   759\r\n",
      "  [73]   833   856   884  1001  1059  1076  1406  1457  1515  1570  1594  1707\r\n",
      "  [85]  1814  1820  1895  1912  1947  2087  2091  2094  2101  2113  2198  2247\r\n",
      "  [97]  2381  2455  2558  2604  3037  3050  3073  3096  3145  3177  3191  3253\r\n",
      " [109]  3480  3504  3564  3639  3778  3787  3877  4050  4084  4113  4221  4255\r\n",
      " [121]  4320  4463  4505  4692  4809  4854  4991  5011  5130  5196  5233  5257\r\n",
      " [133]  5322  5375  5393  5498  5657  5736  5743  5744  5765  5766  5784  5847\r\n",
      " [145]  5880  6040  6167  6255  6309  6310  6312  6483  6573  6723  6804  6866\r\n",
      " [157]  6869  6874  6877  6971  6975  6977  6990  7011  7017  7038  7090  7118\r\n",
      " [169]  7214  7246  7305  7396  7438  7479  7765  7805  8022  8026  8078  8293\r\n",
      " [181]  8328  8459  8550  8658  8678  8688  8696  8767  8782  8790  8827  8828\r\n",
      " [193]  8886  8887  8917  8943  8999  9039  9141  9223  9249  9276  9471  9477\r\n",
      " [205]  9479 10046 10097 10122 10129 10157 10239 10265 10266 10319 10323 10450\r\n",
      " [217] 10507 10554 10716 10764 10789 10851 10986 11048 11074 11083 11195 11320\r\n",
      " [229] 11392 11417 11535 11704 11801 11916 12041 12164 12413 12491 12506 12685\r\n",
      " [241] 12698 12751 12781 12880 13117 13161 13193 13239 13402 13408 13476 13512\r\n",
      " [253] 13513 13514 13571 13599 13650 13686 13687 13693 13730 13929 13947 14197\r\n",
      " [265] 14222 14223 14225 14277 14408 14488 14536 14548 14553 14724 14741 14747\r\n",
      " [277] 14786 14805 14851 14852 14912 14925 15075 15103 15199 15230 15277 15324\r\n",
      " [289] 15435 15513 15720 15760 15769 15771 15922 15927 15960 16130 16132 16188\r\n",
      " [301] 16210 16260 16289 16290 16381 16537 16738 16762 16787 16887 16988 17096\r\n",
      " [313] 17104 17178 17179 17182 17247 17373 17410 17479 17567 17639 17668 17675\r\n",
      " [325] 17690 17716 17747 17754 17799 17848 17858 17944 18060 18297 18445 18465\r\n",
      " [337] 18505 18506 18652 18656 18690 18713 18716 18756 18788 18877 18928 18998\r\n",
      " [349] 19170 19250 19286 19298 19299 19338 19339 19344 19369 19406 19482 19484\r\n",
      " [361] 19548 19684 19732 20031 20056 20123 20126 20128 20148 20254 20268 20275\r\n",
      " [373] 20465 20755 20857 20931 21137 21149 21151 21204 21209 21212 21281 21302\r\n",
      " [385] 21304 21305 21379 21550 21551 21575 21609 21648 21658 21707 21968 22266\r\n",
      " [397] 22267 22268 22269 22270 22271 22272 22273 22274 22275 22276 22277 22278\r\n",
      " [409] 22279 22280 22281 22282 22283 22284 22285 22286 22287 22288 22289 22290\r\n",
      " [421] 22291 22292 22293 22294 22295 22296 22297 22298 22299 22300 22301 22302\r\n",
      " [433] 22303 22304 22305 22306 22307 22308 22309 22310 22311 22312 22313 22314\r\n",
      " [445] 22315 22316 22317 22318 22319 22320 22321 22322 22323 22324 22325 22326\r\n",
      " [457] 22327 22328 22329 22330 22331 22332 22333 22334 22335 22336 22337 22338\r\n",
      " [469] 22339 22340 22341 22342 22343 22344 22345 22346 22347 22348 22349 22350\r\n",
      " [481] 22351 22352 22353 22354 22355 22356 22357 22358 22359 22360 22361 22362\r\n",
      " [493] 22363 22364 22365 22366 22367 22368 22369 22370 22371 22372 22373 22374\r\n",
      " [505] 22375 22376 22377 22378 22379 22380 22381 22382 22383 22384 22385 22386\r\n",
      " [517] 22387 22388 22389 22390 22391 22392 22393 22394 22395 22396 22397 22398\r\n",
      " [529] 22399 22400 22401 22402 22403 22404 22405 22406 22407 22408 22409 22410\r\n",
      " [541] 22411 22412 22413 22414 22415 22416 22417 22418 22419 22420 22421 22422\r\n",
      " [553] 22423 22424 22425 22426 22427 22428 22429 22430 22431 22432 22433 22434\r\n",
      " [565] 22435 22436 22437 22438 22439 22440 22441 22442 22443 22444 22445 22446\r\n",
      " [577] 22447 22448 22449 22450 22451 22452 22453 22454 22455 22456 22457 22458\r\n",
      " [589] 22459 22460 22461 22462 22463 22464 22465 22466 22467 22468 22469 22470\r\n",
      " [601] 22471 22472 22473 22474 22475 22476 22477 22478 22479 22480 22481 22482\r\n",
      " [613] 22483 22484 22485 22486 22487 22488 22489 22490 22491 22492 22493 22494\r\n",
      " [625] 22495 22496 22497 22498 22499 22500 22501 22502 22503 22504 22505 22506\r\n",
      " [637] 22507 22508 22509 22510 22511 22512 22513 22514 22515 22516 22517 22518\r\n",
      " [649] 22519 22520 22521 22522 22523 22524 22525 22526 22527 22528 22529 22530\r\n",
      " [661] 22531 22532 22533 22534 22535 22536 22537 22538 22539 22540 22541 22542\r\n",
      " [673] 22543 22544 22545 22546 22547 22548 22549 22550 22551 22552 22553 22554\r\n",
      " [685] 22555 22556 22557 22558 22559 22560 22561 22562 22563 22564 22565 22566\r\n",
      " [697] 22567 22568 22569 22570 22571 22572 22573 22574 22575 22576 22577 22578\r\n",
      " [709] 22579 22580 22581 22582 22583 22584 22585 22586 22587 22588 22589 22590\r\n",
      " [721] 22591 22592 22593 22594 22595 22596 22597 22598 22599 22600 22601 22602\r\n",
      " [733] 22603 22604 22605 22606 22607 22608 22609 22610 22611 22612 22613 22614\r\n",
      " [745] 22615 22616 22617 22618 22619 22620 22621 22622 22623 22624 22625 22626\r\n",
      " [757] 22627 22628 22629 22630 22631 22632 22633 22634 22635 22636 22637 22638\r\n",
      " [769] 22639 22640 22641 22642 22643 22644 22645 22646 22647 22648 22649 22650\r\n",
      " [781] 22651 22652 22653 22654 22655 22656 22657 22658 22659 22660 22661 22662\r\n",
      " [793] 22663 22664 22665 22666 22667 22668 22669 22670 22671 22672 22673 22674\r\n",
      " [805] 22675 22676 22677 22678 22679 22680 22681 22682 22683 22684 22685 22686\r\n",
      " [817] 22687 22688 22689 22690 22691 22692 22693 22694 22695 22696 22697 22698\r\n",
      " [829] 22699 22700 22701 22702 22703 22704 22705 22706 22707 22708 22709 22710\r\n",
      " [841] 22711 22712 22713 22714 22715 22716 22717 22718 22719 22720 22721 22722\r\n",
      " [853] 22723 22724 22725 22726 22727 22728 22729 22730 22731 22732 22733 22734\r\n",
      " [865] 22735 22736 22737 22738 22739 22740 22741 22742 22743 22744 22745 22797\r\n",
      " [877] 22802 22892 22904 22988 23010 23016 23086 23116 23122 23144 23162 23288\r\n",
      " [889] 23291 23292 23302 23343 23403 23422 23519 23533 23587 23652 23707 23731\r\n",
      " [901] 23738 23745 23763 23766 23775 23855 23929 24034 24054 24368 24389 24390\r\n",
      " [913] 24497 24557 24622 24673 24694 24728 24862 24933 24942 25202 25381 25382\r\n",
      " [925] 25433 25446 25494 25563 25572 25688 25798 25902 25908 25916 25947 25961\r\n",
      " [937] 25979 26124 26144 26152 26211 26461 26530 26549 26625 26700 26709 26729\r\n",
      " [949] 26730 26735 26936 27005 27033 27046 27299 27384 27525 27534 27635 27658\r\n",
      " [961] 27660 27679 27720 27760 27761 27784 27792 27964 28004 28005 28006 28008\r\n",
      " [973] 28077 28144 28184 28253 28254 28311 28344 28517 28559 28580 28657 28676\r\n",
      " [985] 28688 28739 28780 28821 28826 28836 28851 28854 28857 28878 28881 28882\r\n",
      " [997] 28883 28886 28887 28985 29037 29039 29049 29058 29095 29144 29253 29353\r\n",
      "[1009] 29378 29422 29425 29427 29428 29540 29553 29585 29594 29635 29686 29700\r\n",
      "[1021] 29734 29737 29742 29751 29783 29786 29804 29805 29806 29807 29808 29809\r\n",
      "[1033] 29810 29811 29812 29813 29814 29815 29816 29817 29818 29819 29820 29821\r\n",
      "[1045] 29822 29823 29824 29825 29826 29827 29828 29829 29830 29831 29832 29833\r\n",
      "[1057] 29834 29835 29836 29837 29838 29839 29840 29841 29842 29843 29844 29845\r\n",
      "[1069] 29846 29847 29848 29849 29850 29851 29852 29853 29854 29855 29856 29857\r\n",
      "[1081] 29858 29859 29860 29861 29862 29863 29864 29865 29866 29867 29868 29869\r\n",
      "[1093] 29870 29871 29872 29873 29874 29875 29876 29877 29878 29879 29880 29881\r\n",
      "[1105] 29882 29883 29884 29885 29886 29887 29888 29889 29890 29891 29892 29893\r\n",
      "[1117] 29894 29895 29896 29897 29898 29899 29900 29901 29902 29903\r\n"
     ]
    }
   ],
   "source": [
    "!awk '/^>/ { print (NR==1 ? \"\" : RS) $0; next } { printf \"%s\", $0 } END { printf RS }' SA_sample.fasta > SA_sample_temp.fasta;\n",
    "!sed 's/./& /g' < SA_sample_temp.fasta > SA_sample_test.fasta;\n",
    "!rm SA_sample_temp.fasta;\n",
    "!Rscript SA_find_multiallelic.R SA_sample_test.fasta SA_sample_masked.fasta SA_sample_positions.txt"
   ]
  },
  {
   "cell_type": "code",
   "execution_count": 13,
   "metadata": {},
   "outputs": [
    {
     "name": "stdout",
     "output_type": "stream",
     "text": [
      "117 168 174 203 210 241 355 362 376 550 598 1042 1072 1172 1205 1248 1263 1269 1337 1427 1593 1968 2692 2780 2781 2782 2937 3117 3182 3340 3472 3505 3904 3923 4078 4093 4510 4615 4668 5230 5425 5495 5503 5794 5857 5950 6525 6618 6624 6651 6701 6726 6762 7064 7113 7279 7390 7420 7425 7844 8068 8655 8660 8964 9073 9430 10138 10156 10279 10540 10623 10681 10912 11230 11401 11447 11534 11629 11653 11854 11875 11886 11896 12071 12085 12253 12503 12769 13122 13812 14583 14763 14928 14937 15003 15222 15952 15970 16490 16804 17193 17334 17533 17679 17876 17898 17999 18028 18085 18175 18395 18495 18555 18910 19062 19283 19542 19602 19656 20233 20387 20718 21024 21099 21614 21762 21801 21979 21997 22022 22205 22206 22214 22813 22992 23012 23031 23063 23407 23534 23664 23710 23836 23854 24023 24062 24133 24337 24398 24781 25139 25145 25171 25186 25241 25273 25303 25427 25511 25521 25561 25566 25613 25630 25635 25672 25705 25770 25814 25855 25904 25970 25977 26174 26262 26456 26501 26563 26586 26645 26681 26690 26975 27008 27131 27152 27406 27504 27945 28086 28112 28817 28895 28899 28905 29081 29085 29254 29366 29421 29440 29541 29555 29560 29614 29721\r\n"
     ]
    }
   ],
   "source": [
    "!cat SA_sample_positions.txt"
   ]
  },
  {
   "cell_type": "markdown",
   "metadata": {},
   "source": [
    "### Labelling\n",
    "\n",
    "The sequences are given sequential labels (to make the ARGs easier to view):"
   ]
  },
  {
   "cell_type": "code",
   "execution_count": 14,
   "metadata": {},
   "outputs": [],
   "source": [
    "!seqkit head -n 1 SA_sample_masked.fasta > SA_sample_masked_id.fasta;\n",
    "!seqkit range -r 2:26 SA_sample_masked.fasta > f1.f;\n",
    "!seqkit range -r 27:51 SA_sample_masked.fasta > f2.f;\n",
    "!awk '/^>/{print \">O\" ++i; next}{print}' < f1.f >> SA_sample_masked_id.fasta;\n",
    "!awk '/^>/{print \">N\" ++i; next}{print}' < f2.f >> SA_sample_masked_id.fasta;\n",
    "!rm f1.f;\n",
    "!rm f2.f"
   ]
  },
  {
   "cell_type": "markdown",
   "metadata": {},
   "source": [
    "# KwARG"
   ]
  },
  {
   "cell_type": "markdown",
   "metadata": {},
   "source": [
    "Detailed instructions for using KwARG and obtaining the desired outputs can be found [here](https://github.com/a-ignatieva/kwarg). KwARG is run on the masked sample using the following command:\n",
    "\n",
    "```\n",
    "kwarg -T50,30 -Q500 -S-1,1.9,1.8,1.7,1.6,1.5,1.4,1.3,1.2,1.1,1.0,0.9,0.8,0.7,0.6,0.5,0.4,0.3,0.2,0.1,0.01,1 -M-1,1.91,1.81,1.71,1.61,1.51,1.41,1.31,1.21,1.11,1.01,0.91,0.81,0.71,0.61,0.51,0.41,0.31,0.21,0.11,0.02,1.1 -R1,1,1,1,1,1,1,1,1,1,1,1,1,1,1,1,1,1,1,1,1,-1 -C2,2,2,2,2,2,2,2,2,2,2,2,2,2,2,2,2,2,2,2,2,-1 -k -n -f < SA_sample_masked_id.fasta > SA_kwarg_out.txt\n",
    "```\n"
   ]
  }
 ],
 "metadata": {
  "kernelspec": {
   "display_name": "Python 3",
   "language": "python",
   "name": "python3"
  },
  "language_info": {
   "codemirror_mode": {
    "name": "ipython",
    "version": 3
   },
   "file_extension": ".py",
   "mimetype": "text/x-python",
   "name": "python",
   "nbconvert_exporter": "python",
   "pygments_lexer": "ipython3",
   "version": "3.6.12"
  }
 },
 "nbformat": 4,
 "nbformat_minor": 4
}
