{
 "cells": [
  {
   "cell_type": "markdown",
   "metadata": {},
   "source": [
    "# Data processing, sampling and KwARG\n",
    "\n",
    "This notebook provides commands used in processing the data, obtaining the samples and running KwARG. The commands can be run on most Unix-based systems via command line (to re-run a particular command, delete the '!' prefixing each line below).\n",
    "\n",
    "External tools used:\n",
    "\n",
    "[MAFFT](https://mafft.cbrc.jp/alignment/software/)\n",
    "\n",
    "[SeqKit](https://bioinf.shenwei.me/seqkit/)"
   ]
  },
  {
   "cell_type": "markdown",
   "metadata": {},
   "source": [
    "# Data processing : England"
   ]
  },
  {
   "cell_type": "markdown",
   "metadata": {},
   "source": [
    "### Source\n",
    "\n",
    "The data was downloaded from [GISAID](https://www.gisaid.org/) on 20 December 2020, filtering for sequences:\n",
    "\n",
    "- collected in November 2020 in England;\n",
    "- marked as complete (>29,900 nucleotides) and excluding low coverage sequences (>5% ambiguous nucleotides);\n",
    "- labelled as clade GR;\n",
    "\n",
    "giving 4,517 sequences in total. The downloaded files are named:\n",
    "\n",
    "- `Eng_data.fasta` (the sequences in fasta format)\n",
    "- `Eng_sequencing_info.tsv` (sequencing metadata)\n",
    "\n",
    "The data is not shared here as per GISAID's terms of use, but the GISAID accession IDs are provided in the file Eng_id.txt, which can be used to recreate the dataset used in our analysis:"
   ]
  },
  {
   "cell_type": "code",
   "execution_count": 1,
   "metadata": {},
   "outputs": [
    {
     "name": "stdout",
     "output_type": "stream",
     "text": [
      "EPI_ISL_637284\r\n",
      "EPI_ISL_642611\r\n",
      "EPI_ISL_642613\r\n",
      "EPI_ISL_642618\r\n",
      "EPI_ISL_642621\r\n",
      "EPI_ISL_642624\r\n",
      "EPI_ISL_642627\r\n",
      "EPI_ISL_642629\r\n",
      "EPI_ISL_642630\r\n",
      "EPI_ISL_642631\r\n"
     ]
    }
   ],
   "source": [
    "!grep \">\" Eng_data.fasta | awk -F\"|\" '{ print $2 }' > Eng_id.txt;\n",
    "!head Eng_id.txt"
   ]
  },
  {
   "cell_type": "markdown",
   "metadata": {},
   "source": [
    "### Alignment\n",
    "\n",
    "The sequences in each dataset were aligned using MAFFT to the reference sequence in `ref_seq.fasta` (GISAID accession EPI_ISL_402125, GenBank ID MN908947.3):\n",
    "```sh\n",
    "mafft --auto --thread -1 --keeplength --quiet --mapout --preservecase --addfragments Eng_data.fasta ref_seq.fasta > Eng_alignment.fasta\n",
    "```\n",
    "\n",
    "All symbols other than 'A, C, T, G' are replaced with 'N':"
   ]
  },
  {
   "cell_type": "code",
   "execution_count": 2,
   "metadata": {},
   "outputs": [],
   "source": [
    "!sed '/^>/! s/[^actgACTG]/N/g' Eng_alignment.fasta > Eng_alignment_cleaned.fasta"
   ]
  },
  {
   "cell_type": "markdown",
   "metadata": {},
   "source": [
    "### Splitting by strain\n",
    "\n",
    "The IDs corresponding to lineage B.1.1.7 are extracted from the sequencing metadata:"
   ]
  },
  {
   "cell_type": "code",
   "execution_count": 3,
   "metadata": {},
   "outputs": [],
   "source": [
    "!grep \"B.1.1.7\t\" Eng_sequencing_info.tsv > Eng_newstrain.txt;\n",
    "!awk '{print $1\"|\" $2 \"|\" $3}' Eng_newstrain.txt > Eng_newstrain_id.txt;\n",
    "!rm Eng_newstrain.txt"
   ]
  },
  {
   "cell_type": "markdown",
   "metadata": {},
   "source": [
    "The alignment is split into two files by lineage:"
   ]
  },
  {
   "cell_type": "code",
   "execution_count": 4,
   "metadata": {},
   "outputs": [],
   "source": [
    "!seqkit grep -n -f Eng_newstrain_id.txt Eng_alignment_cleaned.fasta > Eng_newstrain.fasta;\n",
    "!seqkit grep -n -v -f Eng_newstrain_id.txt Eng_alignment_cleaned.fasta > Eng_oldstrain.fasta"
   ]
  },
  {
   "cell_type": "markdown",
   "metadata": {},
   "source": [
    "To avoid having identical sequences in the sample, all sequences which are identical are removed:"
   ]
  },
  {
   "cell_type": "code",
   "execution_count": 5,
   "metadata": {},
   "outputs": [
    {
     "name": "stdout",
     "output_type": "stream",
     "text": [
      "[INFO]\u001b[0m 465 duplicated records removed\n",
      "[INFO]\u001b[0m 468 duplicated records removed\n"
     ]
    }
   ],
   "source": [
    "!seqkit rmdup -DEng_olddeleted.txt -s Eng_oldstrain.fasta > Eng_oldstrain_nondup.fasta;\n",
    "!seqkit rmdup -DEng_newdeleted.txt -s Eng_newstrain.fasta > Eng_newstrain_nondup.fasta;\n",
    "!rm Eng_newstrain.fasta;\n",
    "!rm Eng_oldstrain.fasta"
   ]
  },
  {
   "cell_type": "code",
   "execution_count": 6,
   "metadata": {},
   "outputs": [
    {
     "name": "stdout",
     "output_type": "stream",
     "text": [
      "file                        format  type  num_seqs     sum_len  min_len  avg_len  max_len\n",
      "Eng_newstrain_nondup.fasta  FASTA   DNA        934  27,929,402   29,903   29,903   29,903\n",
      "file                        format  type  num_seqs     sum_len  min_len  avg_len  max_len\n",
      "Eng_oldstrain_nondup.fasta  FASTA   DNA      2,651  79,272,853   29,903   29,903   29,903\n"
     ]
    }
   ],
   "source": [
    "!seqkit stats Eng_newstrain_nondup.fasta;\n",
    "!seqkit stats Eng_oldstrain_nondup.fasta"
   ]
  },
  {
   "cell_type": "markdown",
   "metadata": {},
   "source": [
    "### Sample generation"
   ]
  },
  {
   "cell_type": "markdown",
   "metadata": {},
   "source": [
    "40 sequences from each dataset are selected using SeqKit:"
   ]
  },
  {
   "cell_type": "code",
   "execution_count": 7,
   "metadata": {},
   "outputs": [
    {
     "name": "stdout",
     "output_type": "stream",
     "text": [
      "[INFO]\u001b[0m read sequences ...\n",
      "[INFO]\u001b[0m sample by proportion\n",
      "[INFO]\u001b[0m 247 sequences outputted\n",
      "[INFO]\u001b[0m 247 sequences loaded\n",
      "[INFO]\u001b[0m shuffle ...\n",
      "[INFO]\u001b[0m output ...\n",
      "[INFO]\u001b[0m read sequences ...\n",
      "[INFO]\u001b[0m sample by proportion\n",
      "[INFO]\u001b[0m 83 sequences outputted\n",
      "[INFO]\u001b[0m 83 sequences loaded\n",
      "[INFO]\u001b[0m shuffle ...\n",
      "[INFO]\u001b[0m output ...\n"
     ]
    }
   ],
   "source": [
    "!cat ref_seq.fasta > Eng_sample.fasta;\n",
    "!seqkit sample -s 62143677 -p 0.1 Eng_oldstrain_nondup.fasta | seqkit shuffle -s 73487948 | seqkit head -n 40 >> Eng_sample.fasta;\n",
    "!seqkit sample -s 92873461 -p 0.1 Eng_newstrain_nondup.fasta | seqkit shuffle -s 48182303 | seqkit head -n 40 >> Eng_sample.fasta;"
   ]
  },
  {
   "cell_type": "markdown",
   "metadata": {},
   "source": [
    "The IDs of sequences in the sample are found in sample_ids.txt:"
   ]
  },
  {
   "cell_type": "code",
   "execution_count": 8,
   "metadata": {},
   "outputs": [
    {
     "name": "stdout",
     "output_type": "stream",
     "text": [
      "\r\n",
      "EPI_ISL_662468\r\n",
      "EPI_ISL_664402\r\n",
      "EPI_ISL_702752\r\n",
      "EPI_ISL_650455\r\n",
      "EPI_ISL_667977\r\n",
      "EPI_ISL_642566\r\n",
      "EPI_ISL_661404\r\n",
      "EPI_ISL_679726\r\n",
      "EPI_ISL_654967\r\n"
     ]
    }
   ],
   "source": [
    "!grep \">\" Eng_sample.fasta | awk -F\"|\" '{ print $2 }' > Eng_sample_id.txt;\n",
    "!head Eng_sample_id.txt"
   ]
  },
  {
   "cell_type": "markdown",
   "metadata": {},
   "source": [
    "To check the size of the resulting sample:"
   ]
  },
  {
   "cell_type": "code",
   "execution_count": 9,
   "metadata": {},
   "outputs": [
    {
     "name": "stdout",
     "output_type": "stream",
     "text": [
      "file              format  type  num_seqs    sum_len  min_len  avg_len  max_len\r\n",
      "Eng_sample.fasta  FASTA   DNA         81  2,422,143   29,903   29,903   29,903\r\n"
     ]
    }
   ],
   "source": [
    "!seqkit stats Eng_sample.fasta"
   ]
  },
  {
   "cell_type": "markdown",
   "metadata": {},
   "source": [
    "This consists of 80 sampled sequences plus the reference.\n",
    "\n",
    "### Masking problematic sites\n",
    "\n",
    "The R script `Eng_find_multiallelic.R` is used to extract positions of the SNPs in the data, identify and mask multi-allelic sites, and mask all sites flagged as problematic by [De Maio et al (2020)](https://virological.org/t/issues-with-sars-cov-2-sequencing-data/473) (updated to 13 November 2020). The list of problematic sites is downloaded from [here](https://github.com/W-L/ProblematicSites_SARS-CoV2)."
   ]
  },
  {
   "cell_type": "code",
   "execution_count": 10,
   "metadata": {},
   "outputs": [
    {
     "name": "stdout",
     "output_type": "stream",
     "text": [
      "[1] SNP sites: 363\r\n",
      "[1] Plus masked: 7\r\n",
      "[1] Plus multi-allelic: 3\r\n",
      "[1] SNP sites:\r\n",
      "  [1]   145   204   213   219   241   337   406   505   509   583   596   832\r\n",
      " [13]   872   913   936  1126  1149  1163  1191  1210  1288  1344  1457  1471\r\n",
      " [25]  1537  1627  1681  1820  1883  1886  1912  1919  1942  2110  2232  2342\r\n",
      " [37]  2380  2407  2445  2453  2494  2571  2716  2722  2880  3004  3037  3117\r\n",
      " [49]  3176  3251  3256  3259  3261  3267  3330  3331  3373  3587  3602  3638\r\n",
      " [61]  3686  3695  3713  3827  3873  3880  3896  3959  4002  4009  4021  4255\r\n",
      " [73]  4291  4303  4345  4573  4763  4890  4964  5100  5128  5139  5250  5278\r\n",
      " [85]  5388  5392  5575  5622  5672  5986  6160  6190  6317  6633  6730  6781\r\n",
      " [97]  6790  6868  6883  6926  6936  6954  7589  7732  7783  7919  8072  8084\r\n",
      "[109]  8118  8353  8476  8565  8603  8683  8917  9051  9072  9130  9207  9289\r\n",
      "[121]  9433  9484  9611  9623  9802  9836  9857 10027 10097 10189 10196 10265\r\n",
      "[133] 10369 10448 10789 10969 10992 10994 11230 11401 11447 11518 11591 12053\r\n",
      "[145] 12162 12180 12241 12525 12778 12784 12809 12880 13536 13620 13667 14107\r\n",
      "[157] 14120 14173 14202 14407 14408 14500 14616 14620 14676 15101 15243 15279\r\n",
      "[169] 15380 15406 15652 15957 15984 16111 16176 16260 16293 16323 16398 17028\r\n",
      "[181] 17063 17122 17140 17295 17410 17615 17639 17715 17734 17735 17985 18060\r\n",
      "[193] 18168 18348 18364 18397 18526 19017 19018 19079 19162 19269 19542 19650\r\n",
      "[205] 19718 19839 19854 19862 19960 20251 20603 20742 20801 20946 21123 21137\r\n",
      "[217] 21204 21255 21637 21648 21767 21800 21850 21952 21985 21998 22000 22029\r\n",
      "[229] 22075 22131 22224 22227 22326 22328 22344 22388 22432 22468 22604 22624\r\n",
      "[241] 22660 23063 23271 23282 23323 23403 23462 23525 23604 23621 23709 23731\r\n",
      "[253] 23758 23809 23944 24088 24130 24131 24138 24175 24378 24506 24620 24774\r\n",
      "[265] 24781 24851 24914 25150 25177 25311 25340 25437 25521 25552 25593 25595\r\n",
      "[277] 25617 25660 25667 25690 25703 25916 25984 26049 26060 26069 26087 26180\r\n",
      "[289] 26189 26211 26305 26353 26428 26456 26464 26526 26730 26834 26846 27008\r\n",
      "[301] 27046 27242 27281 27319 27389 27455 27513 27579 27599 27708 27728 27782\r\n",
      "[313] 27798 27841 27865 27866 27881 27945 27967 27972 27999 28048 28078 28087\r\n",
      "[325] 28093 28095 28111 28169 28221 28280 28281 28282 28291 28310 28453 28487\r\n",
      "[337] 28684 28706 28868 28884 28889 28890 28899 28905 28922 28977 29149 29227\r\n",
      "[349] 29272 29274 29405 29416 29466 29518 29521 29555 29645 29717 29734 29736\r\n",
      "[361] 29750 29771 29785\r\n",
      "[1] Multi-allelic sites:\r\n",
      "[1] 12067 21724 22992\r\n",
      "[1] Masked sites:\r\n",
      "  [1]     1     2     3     4     5     6     7     8     9    10    11    12\r\n",
      " [13]    13    14    15    16    17    18    19    20    21    22    23    24\r\n",
      " [25]    25    26    27    28    29    30    31    32    33    34    35    36\r\n",
      " [37]    37    38    39    40    41    42    43    44    45    46    47    48\r\n",
      " [49]    49    50    51    52    53    54    55    76    78   150   153   285\r\n",
      " [61]   538   553   558   635   660   759   856  1001  1707  1814  1895  1947\r\n",
      " [73]  2087  2091  2094  2101  2198  2381  2604  3073  3145  3564  3639  3778\r\n",
      " [85]  4050  4221  4463  5011  5257  5393  5498  5657  5736  5743  5744  5765\r\n",
      " [97]  5766  6167  6255  6309  6310  6312  6483  6866  6869  6874  6877  6971\r\n",
      "[109]  6975  6977  7017  7038  7090  7214  7246  7305  7396  8022  8026  8328\r\n",
      "[121]  8459  8696  8790  8827  8828  8886  8887  9039  9471 10046 10122 10129\r\n",
      "[133] 10157 10239 10266 10554 10986 11048 11074 11083 11535 12506 12685 12751\r\n",
      "[145] 13402 13408 13476 13512 13513 13514 13571 13599 13650 13686 13687 13693\r\n",
      "[157] 14197 14222 14223 14225 14277 14548 15435 15769 15771 15922 16188 16210\r\n",
      "[169] 16290 16537 16787 16887 17096 17178 17179 17182 17479 17754 17848 18445\r\n",
      "[181] 18465 18505 18506 18690 19298 19299 19338 19339 19344 19369 19406 19482\r\n",
      "[193] 19484 19548 19732 20056 20123 20126 20254 20465 21149 21151 21209 21212\r\n",
      "[205] 21302 21304 21305 21379 21550 21551 21575 21609 21658 22329 22335 22389\r\n",
      "[217] 22393 22416 22420 22488 22500 22506 22515 22516 22521 22661 22802 23116\r\n",
      "[229] 23122 23144 23162 23291 23292 23302 23519 23745 23766 23855 24389 24390\r\n",
      "[241] 24497 24622 24673 24933 24942 25202 25381 25382 25798 25961 26549 26700\r\n",
      "[253] 26709 27534 27658 27660 27720 27760 27761 27784 27792 28004 28005 28006\r\n",
      "[265] 28008 28184 28253 28517 28559 28676 28780 28881 28882 28883 28985 29037\r\n",
      "[277] 29039 29378 29425 29427 29428 29553 29594 29737 29786 29804 29805 29806\r\n",
      "[289] 29807 29808 29809 29810 29811 29812 29813 29814 29815 29816 29817 29818\r\n",
      "[301] 29819 29820 29821 29822 29823 29824 29825 29826 29827 29828 29829 29830\r\n",
      "[313] 29831 29832 29833 29834 29835 29836 29837 29838 29839 29840 29841 29842\r\n",
      "[325] 29843 29844 29845 29846 29847 29848 29849 29850 29851 29852 29853 29854\r\n",
      "[337] 29855 29856 29857 29858 29859 29860 29861 29862 29863 29864 29865 29866\r\n",
      "[349] 29867 29868 29869 29870 29871 29872 29873 29874 29875 29876 29877 29878\r\n",
      "[361] 29879 29880 29881 29882 29883 29884 29885 29886 29887 29888 29889 29890\r\n",
      "[373] 29891 29892 29893 29894 29895 29896 29897 29898 29899 29900 29901 29902\r\n",
      "[385] 29903\r\n"
     ]
    }
   ],
   "source": [
    "!awk '/^>/ { print (NR==1 ? \"\" : RS) $0; next } { printf \"%s\", $0 } END { printf RS }' Eng_sample.fasta > Eng_sample_temp.fasta;\n",
    "!sed 's/./& /g' < Eng_sample_temp.fasta > Eng_sample_test.fasta;\n",
    "!rm Eng_sample_temp.fasta;\n",
    "!Rscript Eng_find_multiallelic.R Eng_sample_test.fasta Eng_sample_masked.fasta Eng_sample_positions.fasta"
   ]
  },
  {
   "cell_type": "markdown",
   "metadata": {},
   "source": [
    "There are 373 variable sites, of which 3 are multi-allelic, and a further 7 are masked as problematic. The output file `Eng_sample_masked.fasta` contains the masked multiple alignment; the file `Eng_positions.txt` contains a list of SNP positions."
   ]
  },
  {
   "cell_type": "markdown",
   "metadata": {},
   "source": [
    "### Labelling\n",
    "\n",
    "The sequences are given sequential labels (to make the ARGs easier to view):"
   ]
  },
  {
   "cell_type": "code",
   "execution_count": 11,
   "metadata": {},
   "outputs": [],
   "source": [
    "!seqkit head -n 1 Eng_sample_masked.fasta > Eng_sample_masked_id.fasta;\n",
    "!seqkit range -r 2:41 Eng_sample_masked.fasta > f1.f;\n",
    "!seqkit range -r 42:81 Eng_sample_masked.fasta > f2.f;\n",
    "!awk '/^>/{print \">O\" ++i; next}{print}' < f1.f >> Eng_sample_masked_id.fasta;\n",
    "!awk '/^>/{print \">N\" ++i; next}{print}' < f2.f >> Eng_sample_masked_id.fasta;\n",
    "!rm f1.f;\n",
    "!rm f2.f"
   ]
  },
  {
   "cell_type": "markdown",
   "metadata": {},
   "source": [
    "# Data processing: South Africa"
   ]
  },
  {
   "cell_type": "markdown",
   "metadata": {},
   "source": [
    "### Source\n",
    "\n",
    "The data was downloded from [GISAID](https://www.gisaid.org/) on 28 December 2020, filtering for sequences:\n",
    "\n",
    "- collected in November 2020 in South Africa;\n",
    "- marked as complete (>29,900 nucleotides) and excluding low coverage sequences (>5% ambiguous nucleotides);\n",
    "\n",
    "giving 326 sequences in total. The downloaded files are named:\n",
    "\n",
    "- `SA_data.fasta` (the sequences in fasta format)\n",
    "- `SA_sequencing_info.tsv` (sequencing metadata)\n",
    "\n",
    "Filtering only for sequences labelled as belonging to strain 501Y.V2, the sequencing metadata was downloaded in file\n",
    "\n",
    "- `SA_newstrain_sequencing_info.tsv`\n",
    "\n",
    "to enable filtering by strain.\n",
    "\n",
    "The data is not shared here as per GISAID's terms of use, but the GISAID accession IDs are provided in the file SA_id.txt, which can be used to recreate the dataset used in our analysis:"
   ]
  },
  {
   "cell_type": "code",
   "execution_count": 12,
   "metadata": {},
   "outputs": [
    {
     "name": "stdout",
     "output_type": "stream",
     "text": [
      "EPI_ISL_660159\r\n",
      "EPI_ISL_660160\r\n",
      "EPI_ISL_660161\r\n",
      "EPI_ISL_660162\r\n",
      "EPI_ISL_660163\r\n",
      "EPI_ISL_660164\r\n",
      "EPI_ISL_660221\r\n",
      "EPI_ISL_660222\r\n",
      "EPI_ISL_660225\r\n",
      "EPI_ISL_660228\r\n"
     ]
    }
   ],
   "source": [
    "!grep \">\" SA_data.fasta | awk -F\"|\" '{ print $2 }' > SA_id.txt;\n",
    "!head SA_id.txt"
   ]
  },
  {
   "cell_type": "markdown",
   "metadata": {},
   "source": [
    "### Alignment\n",
    "\n",
    "The sequences in each dataset were aligned using MAFFT as above and all symbols other than 'A, C, T, G' were replaced with 'N', as above. The resulting multiple alignment was stored in `SA_alignment_cleaned.fasta`.\n",
    "\n",
    "Sequences labelled as having long stretches of ambiguous nucleotides were removed:"
   ]
  },
  {
   "cell_type": "code",
   "execution_count": 13,
   "metadata": {},
   "outputs": [],
   "source": [
    "!grep \"Stretches\" SA_sequencing_info.tsv | awk '{print $1 \" \" $2 \"|\" $3 \"|\" $4}' > Ns_id.txt;\n",
    "!sed -i .bak \"s/\\ /_/g\" Ns_id.txt;\n",
    "!sed -i .bak \"s/\\ /_/g\" SA_alignment_cleaned.fasta;\n",
    "!seqkit grep -n -v -f Ns_id.txt SA_alignment_cleaned.fasta > SA_alignment_good.fasta"
   ]
  },
  {
   "cell_type": "markdown",
   "metadata": {},
   "source": [
    "To check the size of the resulting dataset:"
   ]
  },
  {
   "cell_type": "code",
   "execution_count": 14,
   "metadata": {},
   "outputs": [
    {
     "name": "stdout",
     "output_type": "stream",
     "text": [
      "file                     format  type  num_seqs    sum_len  min_len  avg_len  max_len\r\n",
      "SA_alignment_good.fasta  FASTA   DNA        279  8,342,937   29,903   29,903   29,903\r\n"
     ]
    }
   ],
   "source": [
    "!seqkit stats SA_alignment_good.fasta"
   ]
  },
  {
   "cell_type": "markdown",
   "metadata": {},
   "source": [
    "### Splitting by strain"
   ]
  },
  {
   "cell_type": "markdown",
   "metadata": {},
   "source": [
    "The sequencing metadata file `SA_newstrain_sequencing_info.txt` is used to extract the sequences which are labelled as belonging to strain 501Y.V2."
   ]
  },
  {
   "cell_type": "code",
   "execution_count": 15,
   "metadata": {},
   "outputs": [],
   "source": [
    "!awk '{print $1 \" \" $2 \"|\" $3 \"|\" $4}' SA_newstrain_sequencing_info.tsv | grep \"hCoV\" > SA_newstrain_id.txt;\n",
    "!sed -i .bak \"s/\\ /_/g\" SA_newstrain_id.txt"
   ]
  },
  {
   "cell_type": "code",
   "execution_count": 16,
   "metadata": {},
   "outputs": [],
   "source": [
    "!seqkit grep -n -f SA_newstrain_id.txt SA_alignment_good.fasta > SA_newstrain.fasta;\n",
    "!seqkit grep -n -v -f SA_newstrain_id.txt SA_alignment_good.fasta > SA_oldstrain.fasta"
   ]
  },
  {
   "cell_type": "code",
   "execution_count": 17,
   "metadata": {},
   "outputs": [
    {
     "name": "stdout",
     "output_type": "stream",
     "text": [
      "[INFO]\u001b[0m 0 duplicated records removed\n",
      "[INFO]\u001b[0m 0 duplicated records removed\n"
     ]
    }
   ],
   "source": [
    "!seqkit rmdup -DSA_olddeleted.txt -s SA_oldstrain.fasta > SA_oldstrain_nondup.fasta;\n",
    "!seqkit rmdup -DSA_newdeleted.txt -s SA_newstrain.fasta > SA_newstrain_nondup.fasta;\n",
    "!rm SA_newstrain.fasta;\n",
    "!rm SA_oldstrain.fasta"
   ]
  },
  {
   "cell_type": "code",
   "execution_count": 18,
   "metadata": {},
   "outputs": [
    {
     "name": "stdout",
     "output_type": "stream",
     "text": [
      "file                       format  type  num_seqs    sum_len  min_len  avg_len  max_len\n",
      "SA_oldstrain_nondup.fasta  FASTA   DNA        102  3,050,106   29,903   29,903   29,903\n",
      "file                       format  type  num_seqs    sum_len  min_len  avg_len  max_len\n",
      "SA_newstrain_nondup.fasta  FASTA   DNA        177  5,292,831   29,903   29,903   29,903\n"
     ]
    }
   ],
   "source": [
    "!seqkit stats SA_oldstrain_nondup.fasta;\n",
    "!seqkit stats SA_newstrain_nondup.fasta"
   ]
  },
  {
   "cell_type": "markdown",
   "metadata": {},
   "source": [
    "### Sample generation\n",
    "\n",
    "The reference sequence is deleted from `SA_oldstrain_nondup.fasta` prior to running the following:"
   ]
  },
  {
   "cell_type": "code",
   "execution_count": 19,
   "metadata": {},
   "outputs": [
    {
     "name": "stdout",
     "output_type": "stream",
     "text": [
      "[INFO]\u001b[0m sample by proportion\n",
      "[INFO]\u001b[0m read sequences ...\n",
      "[INFO]\u001b[0m 62 sequences outputted\n",
      "[INFO]\u001b[0m 62 sequences loaded\n",
      "[INFO]\u001b[0m shuffle ...\n",
      "[INFO]\u001b[0m output ...\n",
      "[INFO]\u001b[0m sample by proportion\n",
      "[INFO]\u001b[0m read sequences ...\n",
      "[INFO]\u001b[0m 113 sequences outputted\n",
      "[INFO]\u001b[0m 113 sequences loaded\n",
      "[INFO]\u001b[0m shuffle ...\n",
      "[INFO]\u001b[0m output ...\n"
     ]
    }
   ],
   "source": [
    "!cat ref_seq.fasta > SA_sample.fasta;\n",
    "!seqkit sample -s 43984291 -p 0.6 SA_oldstrain_nondup.fasta | seqkit shuffle -s 92834717 | seqkit head -n 25 >> SA_sample.fasta;\n",
    "!seqkit sample -s 23849817 -p 0.6 SA_newstrain_nondup.fasta | seqkit shuffle -s 34876261 | seqkit head -n 25 >> SA_sample.fasta;"
   ]
  },
  {
   "cell_type": "markdown",
   "metadata": {},
   "source": [
    "The accession numbers of the sampled sequences are given in `SA_sample_id.txt`:"
   ]
  },
  {
   "cell_type": "code",
   "execution_count": 20,
   "metadata": {},
   "outputs": [
    {
     "name": "stdout",
     "output_type": "stream",
     "text": [
      "\r\n",
      "EPI_ISL_660225\r\n",
      "EPI_ISL_660257\r\n",
      "EPI_ISL_736993\r\n",
      "EPI_ISL_660643\r\n",
      "EPI_ISL_660229\r\n",
      "EPI_ISL_736985\r\n",
      "EPI_ISL_736926\r\n",
      "EPI_ISL_696462\r\n",
      "EPI_ISL_660655\r\n"
     ]
    }
   ],
   "source": [
    "!grep \">\" SA_sample.fasta | awk -F\"|\" '{ print $2 }' > SA_sample_id.txt;\n",
    "!head SA_sample_id.txt"
   ]
  },
  {
   "cell_type": "markdown",
   "metadata": {},
   "source": [
    "### Masking problematic sites"
   ]
  },
  {
   "cell_type": "markdown",
   "metadata": {},
   "source": [
    "This is done using the same method as for the England dataset, with the script modified to mask additional sites as described in Sections 2.2 and 5.1."
   ]
  },
  {
   "cell_type": "code",
   "execution_count": 21,
   "metadata": {},
   "outputs": [
    {
     "name": "stdout",
     "output_type": "stream",
     "text": [
      "[1] SNP sites: 228\r\n",
      "[1] Plus masked: 7\r\n",
      "[1] Plus multi-allelic: 1\r\n",
      "[1] SNP sites:\r\n",
      "  [1]   117   168   174   203   210   241   355   362   376   550   598  1042\r\n",
      " [13]  1059  1072  1172  1205  1248  1263  1269  1337  1427  1593  1912  1968\r\n",
      " [25]  2692  2780  2781  2782  2937  3037  3117  3182  3340  3472  3505  3904\r\n",
      " [37]  3923  4078  4093  4510  4615  4668  5230  5425  5495  5503  5794  5857\r\n",
      " [49]  5950  6525  6618  6624  6651  6701  6726  6762  7064  7113  7279  7390\r\n",
      " [61]  7420  7425  7844  8068  8655  8658  8660  8964  9073  9430 10138 10156\r\n",
      " [73] 10279 10323 10540 10623 10681 10912 11195 11230 11401 11447 11534 11629\r\n",
      " [85] 11653 11854 11875 11886 11896 12071 12085 12253 12503 12769 13122 13812\r\n",
      " [97] 14408 14583 14763 14925 14928 14937 15003 15222 15952 15970 16490 16804\r\n",
      "[109] 17193 17334 17533 17679 17876 17898 17999 18028 18085 18175 18395 18495\r\n",
      "[121] 18555 18788 18910 19062 19283 19542 19602 19656 20233 20268 20387 20718\r\n",
      "[133] 21024 21099 21614 21762 21801 21979 21997 22022 22205 22206 22214 22278\r\n",
      "[145] 22299 22675 22708 22813 22992 23012 23031 23063 23403 23407 23534 23664\r\n",
      "[157] 23710 23836 23854 24023 24062 24133 24337 24398 24781 25139 25145 25171\r\n",
      "[169] 25186 25241 25273 25303 25427 25511 25521 25561 25563 25566 25613 25630\r\n",
      "[181] 25635 25672 25705 25770 25814 25855 25904 25970 25977 26174 26262 26456\r\n",
      "[193] 26501 26563 26586 26645 26681 26690 26975 27008 27131 27152 27384 27406\r\n",
      "[205] 27504 27679 27945 28077 28086 28112 28254 28817 28854 28887 28895 28899\r\n",
      "[217] 28905 29081 29085 29254 29366 29421 29440 29541 29555 29560 29614 29721\r\n",
      "[1] Multi-allelic sites:\r\n",
      "[1] 29742\r\n",
      "[1] Masked sites:\r\n",
      "  [1]     1     2     3     4     5     6     7     8     9    10    11    12\r\n",
      " [13]    13    14    15    16    17    18    19    20    21    22    23    24\r\n",
      " [25]    25    26    27    28    29    30    31    32    33    34    35    36\r\n",
      " [37]    37    38    39    40    41    42    43    44    45    46    47    48\r\n",
      " [49]    49    50    51    52    53    54    55    76    78   150   153   285\r\n",
      " [61]   538   553   558   635   660   759   856  1001  1707  1814  1895  1947\r\n",
      " [73]  2087  2091  2094  2101  2198  2381  2604  3073  3145  3564  3639  3778\r\n",
      " [85]  4050  4221  4463  5011  5257  5393  5498  5657  5736  5743  5744  5765\r\n",
      " [97]  5766  6167  6255  6309  6310  6312  6483  6866  6869  6874  6877  6971\r\n",
      "[109]  6975  6977  7017  7038  7090  7214  7246  7305  7396  8022  8026  8328\r\n",
      "[121]  8459  8696  8790  8827  8828  8886  8887  9039  9471 10046 10122 10129\r\n",
      "[133] 10157 10239 10266 10554 10986 11048 11074 11083 11535 12506 12685 12751\r\n",
      "[145] 13402 13408 13476 13512 13513 13514 13571 13599 13650 13686 13687 13693\r\n",
      "[157] 14197 14222 14223 14225 14277 14548 15435 15769 15771 15922 16188 16210\r\n",
      "[169] 16290 16537 16787 16887 17096 17178 17179 17182 17479 17754 17848 18445\r\n",
      "[181] 18465 18505 18506 18690 19298 19299 19338 19339 19344 19369 19406 19482\r\n",
      "[193] 19484 19548 19732 20056 20123 20126 20254 20465 21149 21151 21209 21212\r\n",
      "[205] 21302 21304 21305 21379 21550 21551 21575 21609 21658 22329 22335 22389\r\n",
      "[217] 22393 22416 22420 22488 22500 22506 22515 22516 22521 22661 22802 23116\r\n",
      "[229] 23122 23144 23162 23291 23292 23302 23519 23745 23766 23855 24389 24390\r\n",
      "[241] 24497 24622 24673 24933 24942 25202 25381 25382 25798 25961 26549 26700\r\n",
      "[253] 26709 27534 27658 27660 27720 27760 27761 27784 27792 28004 28005 28006\r\n",
      "[265] 28008 28184 28253 28517 28559 28676 28780 28881 28882 28883 28985 29037\r\n",
      "[277] 29039 29378 29425 29427 29428 29553 29594 29737 29786 29804 29805 29806\r\n",
      "[289] 29807 29808 29809 29810 29811 29812 29813 29814 29815 29816 29817 29818\r\n",
      "[301] 29819 29820 29821 29822 29823 29824 29825 29826 29827 29828 29829 29830\r\n",
      "[313] 29831 29832 29833 29834 29835 29836 29837 29838 29839 29840 29841 29842\r\n",
      "[325] 29843 29844 29845 29846 29847 29848 29849 29850 29851 29852 29853 29854\r\n",
      "[337] 29855 29856 29857 29858 29859 29860 29861 29862 29863 29864 29865 29866\r\n",
      "[349] 29867 29868 29869 29870 29871 29872 29873 29874 29875 29876 29877 29878\r\n",
      "[361] 29879 29880 29881 29882 29883 29884 29885 29886 29887 29888 29889 29890\r\n",
      "[373] 29891 29892 29893 29894 29895 29896 29897 29898 29899 29900 29901 29902\r\n",
      "[385] 29903 22339 22340 22341 22342 22343 22344 22345 22346 22347 22348 22349\r\n",
      "[397] 22350 22351 22352 22353 22354 22355 22356 22357 22358 22359 22360 22361\r\n",
      "[409] 22362 22363 22364 22365 22366 22367 22368 22369 22370 22371 22372 22373\r\n",
      "[421] 22374 22375 22376 22377 22378 22379 22380 22381 22382 22383 22384 22385\r\n",
      "[433] 22386 22387 22388 22390 22391 22392 22394 22395 22396 22397 22398 22399\r\n",
      "[445] 22400 22401 22402 22403 22404 22405 22406 22407 22408 22409 22410 22411\r\n",
      "[457] 22412 22413 22414 22415 22417 22418 22419 22421 22422 22423 22424 22425\r\n",
      "[469] 22426 22427 22428 22429 22430 22431 22432 22433 22434 22435 22436 22437\r\n",
      "[481] 22438 22439 22440 22441 22442 22443 22444 22445 22446 22447 22448 22449\r\n",
      "[493] 22450 22451 22452 22453 22454 22455 22456 22457 22458 22459 22460 22461\r\n",
      "[505] 22462 22463 22464 22465 22466 22467 22468 22469 22470 22471 22472 22473\r\n",
      "[517] 22474 22475 22476 22477 22478 22479 22480 22481 22482 22483 22484 22485\r\n",
      "[529] 22486 22487 22489 22490 22491 22492 22493 22494 22495 22496 22497 22498\r\n",
      "[541] 22499 22501 22502 22503 22504 22505 22507 22508 22509 22510 22511 22512\r\n",
      "[553] 22513 22514 22517 22518 22519 22520 22522 22523 22287\r\n"
     ]
    }
   ],
   "source": [
    "!awk '/^>/ { print (NR==1 ? \"\" : RS) $0; next } { printf \"%s\", $0 } END { printf RS }' SA_sample.fasta > SA_sample_temp.fasta;\n",
    "!sed 's/./& /g' < SA_sample_temp.fasta > SA_sample_test.fasta;\n",
    "!rm SA_sample_temp.fasta;\n",
    "!Rscript SA_find_multiallelic.R SA_sample_test.fasta SA_sample_masked.fasta SA_sample_positions.fasta"
   ]
  },
  {
   "cell_type": "markdown",
   "metadata": {},
   "source": [
    "### Labelling\n",
    "\n",
    "The sequences are given sequential labels (to make the ARGs easier to view):"
   ]
  },
  {
   "cell_type": "code",
   "execution_count": 22,
   "metadata": {},
   "outputs": [],
   "source": [
    "!seqkit head -n 1 SA_sample_masked.fasta > SA_sample_masked_id.fasta;\n",
    "!seqkit range -r 2:26 SA_sample_masked.fasta > f1.f;\n",
    "!seqkit range -r 27:51 SA_sample_masked.fasta > f2.f;\n",
    "!awk '/^>/{print \">O\" ++i; next}{print}' < f1.f >> SA_sample_masked_id.fasta;\n",
    "!awk '/^>/{print \">N\" ++i; next}{print}' < f2.f >> SA_sample_masked_id.fasta;\n",
    "!rm f1.f;\n",
    "!rm f2.f"
   ]
  },
  {
   "cell_type": "markdown",
   "metadata": {},
   "source": [
    "# KwARG"
   ]
  },
  {
   "cell_type": "markdown",
   "metadata": {},
   "source": [
    "Detailed instructions for using KwARG and obtaining the desired outputs can be found [here](https://github.com/a-ignatieva/kwarg). KwARG is run on the masked England sample using the following command:\n",
    "\n",
    "```\n",
    "kwarg -T50,30 -Q500 -S-1,1.9,1.8,1.7,1.6,1.5,1.4,1.3,1.2,1.1,1.0,0.9,0.8,0.7,0.6,0.5,0.4,0.3,0.2,0.1,0.01,1 -M-1,1.91,1.81,1.71,1.61,1.51,1.41,1.31,1.21,1.11,1.01,0.91,0.81,0.71,0.61,0.51,0.41,0.31,0.21,0.11,0.02,1.1 -R1,1,1,1,1,1,1,1,1,1,1,1,1,1,1,1,1,1,1,1,1,-1 -C2,2,2,2,2,2,2,2,2,2,2,2,2,2,2,2,2,2,2,2,2,-1 -k -n -f < Eng_sample_masked_id.fasta > Eng_kwarg_out.txt\n",
    "```\n",
    "\n",
    "and equivalently for the South Africa sample."
   ]
  }
 ],
 "metadata": {
  "kernelspec": {
   "display_name": "Python 3",
   "language": "python",
   "name": "python3"
  },
  "language_info": {
   "codemirror_mode": {
    "name": "ipython",
    "version": 3
   },
   "file_extension": ".py",
   "mimetype": "text/x-python",
   "name": "python",
   "nbconvert_exporter": "python",
   "pygments_lexer": "ipython3",
   "version": "3.6.12"
  }
 },
 "nbformat": 4,
 "nbformat_minor": 4
}
